{
 "cells": [
  {
   "cell_type": "markdown",
   "id": "z-F_j5xGJ_BJ",
   "metadata": {
    "id": "z-F_j5xGJ_BJ"
   },
   "source": [
    "# Sentiment Analysis of Tweets Dataset using the following Machine Learning models\n",
    "- Logistic Regression\n",
    "- Random Forest Classifier\n",
    "- Extra Trees Classifier\n",
    "- Ada Boost Classifier\n",
    "- Naive Bayes"
   ]
  },
  {
   "cell_type": "code",
   "execution_count": 1,
   "id": "8f965746",
   "metadata": {
    "id": "8f965746"
   },
   "outputs": [],
   "source": [
    "# import required libraries\n",
    "import nltk\n",
    "from nltk import word_tokenize\n",
    "from nltk.corpus import stopwords\n",
    "\n",
    "from sklearn.feature_extraction.text import TfidfVectorizer\n",
    "from sklearn.model_selection import train_test_split\n",
    "from sklearn.metrics import classification_report, confusion_matrix, recall_score, precision_score\n",
    "from nltk.stem import WordNetLemmatizer\n",
    "import matplotlib.pyplot as plt\n",
    "%matplotlib inline\n",
    "\n",
    "import pandas as pd\n",
    "import string"
   ]
  },
  {
   "cell_type": "code",
   "execution_count": 2,
   "id": "98da782e",
   "metadata": {
    "colab": {
     "base_uri": "https://localhost:8080/"
    },
    "id": "98da782e",
    "outputId": "0892afd2-cfb6-4e95-8943-84de53e8ef6b"
   },
   "outputs": [
    {
     "name": "stderr",
     "output_type": "stream",
     "text": [
      "[nltk_data] Downloading package punkt to\n",
      "[nltk_data]     C:\\Users\\apfle\\AppData\\Roaming\\nltk_data...\n",
      "[nltk_data]   Package punkt is already up-to-date!\n",
      "[nltk_data] Downloading package stopwords to\n",
      "[nltk_data]     C:\\Users\\apfle\\AppData\\Roaming\\nltk_data...\n",
      "[nltk_data]   Package stopwords is already up-to-date!\n",
      "[nltk_data] Downloading package wordnet to\n",
      "[nltk_data]     C:\\Users\\apfle\\AppData\\Roaming\\nltk_data...\n",
      "[nltk_data]   Package wordnet is already up-to-date!\n",
      "[nltk_data] Downloading package omw-1.4 to\n",
      "[nltk_data]     C:\\Users\\apfle\\AppData\\Roaming\\nltk_data...\n",
      "[nltk_data]   Package omw-1.4 is already up-to-date!\n"
     ]
    },
    {
     "data": {
      "text/plain": [
       "True"
      ]
     },
     "execution_count": 2,
     "metadata": {},
     "output_type": "execute_result"
    }
   ],
   "source": [
    "# download punctuation and stopwords from nltk\n",
    "nltk.download('punkt')\n",
    "nltk.download(\"stopwords\")\n",
    "nltk.download('wordnet')\n",
    "nltk.download('omw-1.4')"
   ]
  },
  {
   "cell_type": "code",
   "execution_count": 3,
   "id": "wJuTq-P9LO38",
   "metadata": {
    "colab": {
     "base_uri": "https://localhost:8080/"
    },
    "id": "wJuTq-P9LO38",
    "outputId": "6ab8cfbb-3907-4f9f-d2f4-2d6eb5d94421"
   },
   "outputs": [],
   "source": [
    "# set up spark\n",
    "\n",
    "# import os\n",
    "# # Find the latest version of spark 3.2  from http://www.apache.org/dist/spark/ and enter as the spark version\n",
    "# # For example:\n",
    "# spark_version = 'spark-3.2.3'\n",
    "# # spark_version = 'spark-3.<enter version>'\n",
    "# os.environ['SPARK_VERSION']=spark_version\n",
    "\n",
    "# # Install Spark and Java\n",
    "# !apt-get update\n",
    "# !apt-get install openjdk-8-jdk-headless -qq > /dev/null\n",
    "# !wget -q http://www.apache.org/dist/spark/$SPARK_VERSION/$SPARK_VERSION-bin-hadoop2.7.tgz\n",
    "# !tar xf $SPARK_VERSION-bin-hadoop2.7.tgz\n",
    "# !pip install -q findspark\n",
    "\n",
    "# # Set Environment Variables\n",
    "# os.environ[\"JAVA_HOME\"] = \"/usr/lib/jvm/java-8-openjdk-amd64\"\n",
    "# os.environ[\"SPARK_HOME\"] = f\"/content/{spark_version}-bin-hadoop2.7\"\n",
    "\n",
    "# # Start a SparkSession\n",
    "# import findspark\n",
    "# findspark.init()"
   ]
  },
  {
   "cell_type": "markdown",
   "id": "4c986391",
   "metadata": {
    "id": "4c986391"
   },
   "source": [
    "# Transform the data"
   ]
  },
  {
   "cell_type": "code",
   "execution_count": 4,
   "id": "c503a564",
   "metadata": {
    "colab": {
     "base_uri": "https://localhost:8080/",
     "height": 424
    },
    "id": "c503a564",
    "outputId": "eb21e477-f9e0-42e6-b1bd-10209bd39f91"
   },
   "outputs": [
    {
     "data": {
      "text/html": [
       "<div>\n",
       "<style scoped>\n",
       "    .dataframe tbody tr th:only-of-type {\n",
       "        vertical-align: middle;\n",
       "    }\n",
       "\n",
       "    .dataframe tbody tr th {\n",
       "        vertical-align: top;\n",
       "    }\n",
       "\n",
       "    .dataframe thead th {\n",
       "        text-align: right;\n",
       "    }\n",
       "</style>\n",
       "<table border=\"1\" class=\"dataframe\">\n",
       "  <thead>\n",
       "    <tr style=\"text-align: right;\">\n",
       "      <th></th>\n",
       "      <th>textID</th>\n",
       "      <th>text</th>\n",
       "      <th>selected_text</th>\n",
       "      <th>sentiment</th>\n",
       "    </tr>\n",
       "  </thead>\n",
       "  <tbody>\n",
       "    <tr>\n",
       "      <th>0</th>\n",
       "      <td>cb774db0d1</td>\n",
       "      <td>I`d have responded, if I were going</td>\n",
       "      <td>I`d have responded, if I were going</td>\n",
       "      <td>neutral</td>\n",
       "    </tr>\n",
       "    <tr>\n",
       "      <th>1</th>\n",
       "      <td>549e992a42</td>\n",
       "      <td>Sooo SAD I will miss you here in San Diego!!!</td>\n",
       "      <td>Sooo SAD</td>\n",
       "      <td>negative</td>\n",
       "    </tr>\n",
       "    <tr>\n",
       "      <th>2</th>\n",
       "      <td>088c60f138</td>\n",
       "      <td>my boss is bullying me...</td>\n",
       "      <td>bullying me</td>\n",
       "      <td>negative</td>\n",
       "    </tr>\n",
       "    <tr>\n",
       "      <th>3</th>\n",
       "      <td>9642c003ef</td>\n",
       "      <td>what interview! leave me alone</td>\n",
       "      <td>leave me alone</td>\n",
       "      <td>negative</td>\n",
       "    </tr>\n",
       "    <tr>\n",
       "      <th>4</th>\n",
       "      <td>358bd9e861</td>\n",
       "      <td>Sons of ****, why couldn`t they put them on t...</td>\n",
       "      <td>Sons of ****,</td>\n",
       "      <td>negative</td>\n",
       "    </tr>\n",
       "    <tr>\n",
       "      <th>...</th>\n",
       "      <td>...</td>\n",
       "      <td>...</td>\n",
       "      <td>...</td>\n",
       "      <td>...</td>\n",
       "    </tr>\n",
       "    <tr>\n",
       "      <th>27476</th>\n",
       "      <td>4eac33d1c0</td>\n",
       "      <td>wish we could come see u on Denver  husband l...</td>\n",
       "      <td>d lost</td>\n",
       "      <td>negative</td>\n",
       "    </tr>\n",
       "    <tr>\n",
       "      <th>27477</th>\n",
       "      <td>4f4c4fc327</td>\n",
       "      <td>I`ve wondered about rake to.  The client has ...</td>\n",
       "      <td>, don`t force</td>\n",
       "      <td>negative</td>\n",
       "    </tr>\n",
       "    <tr>\n",
       "      <th>27478</th>\n",
       "      <td>f67aae2310</td>\n",
       "      <td>Yay good for both of you. Enjoy the break - y...</td>\n",
       "      <td>Yay good for both of you.</td>\n",
       "      <td>positive</td>\n",
       "    </tr>\n",
       "    <tr>\n",
       "      <th>27479</th>\n",
       "      <td>ed167662a5</td>\n",
       "      <td>But it was worth it  ****.</td>\n",
       "      <td>But it was worth it  ****.</td>\n",
       "      <td>positive</td>\n",
       "    </tr>\n",
       "    <tr>\n",
       "      <th>27480</th>\n",
       "      <td>6f7127d9d7</td>\n",
       "      <td>All this flirting going on - The ATG smiles...</td>\n",
       "      <td>All this flirting going on - The ATG smiles. Y...</td>\n",
       "      <td>neutral</td>\n",
       "    </tr>\n",
       "  </tbody>\n",
       "</table>\n",
       "<p>27481 rows × 4 columns</p>\n",
       "</div>"
      ],
      "text/plain": [
       "           textID                                               text  \\\n",
       "0      cb774db0d1                I`d have responded, if I were going   \n",
       "1      549e992a42      Sooo SAD I will miss you here in San Diego!!!   \n",
       "2      088c60f138                          my boss is bullying me...   \n",
       "3      9642c003ef                     what interview! leave me alone   \n",
       "4      358bd9e861   Sons of ****, why couldn`t they put them on t...   \n",
       "...           ...                                                ...   \n",
       "27476  4eac33d1c0   wish we could come see u on Denver  husband l...   \n",
       "27477  4f4c4fc327   I`ve wondered about rake to.  The client has ...   \n",
       "27478  f67aae2310   Yay good for both of you. Enjoy the break - y...   \n",
       "27479  ed167662a5                         But it was worth it  ****.   \n",
       "27480  6f7127d9d7     All this flirting going on - The ATG smiles...   \n",
       "\n",
       "                                           selected_text sentiment  \n",
       "0                    I`d have responded, if I were going   neutral  \n",
       "1                                               Sooo SAD  negative  \n",
       "2                                            bullying me  negative  \n",
       "3                                         leave me alone  negative  \n",
       "4                                          Sons of ****,  negative  \n",
       "...                                                  ...       ...  \n",
       "27476                                             d lost  negative  \n",
       "27477                                      , don`t force  negative  \n",
       "27478                          Yay good for both of you.  positive  \n",
       "27479                         But it was worth it  ****.  positive  \n",
       "27480  All this flirting going on - The ATG smiles. Y...   neutral  \n",
       "\n",
       "[27481 rows x 4 columns]"
      ]
     },
     "execution_count": 4,
     "metadata": {},
     "output_type": "execute_result"
    }
   ],
   "source": [
    "# load tweets_df and view\n",
    "tweets_df = pd.read_csv(\"Resources/Tweets.csv\")\n",
    "\n",
    "\n",
    "# from pyspark import SparkFiles\n",
    "# url =\"https://tweet-2022.s3.amazonaws.com/Tweets.csv\"\n",
    "# spark.sparkContext.addFile(url)\n",
    "# spark_tweets_df = spark.read.csv(SparkFiles.get(\"Tweets.csv\"), sep=\",\", header=True)\n",
    "# tweets_df = spark.read.csv(SparkFiles.get(\"Tweets.csv\"), sep=\",\", header=True)\n",
    "\n",
    "\n",
    "# tweets_df = pd.read_csv(\"/content/Tweets.csv\")\n",
    "# tweets_df=spark_tweets_df.toPandas()\n",
    "tweets_df"
   ]
  },
  {
   "cell_type": "code",
   "execution_count": 5,
   "id": "c311757b",
   "metadata": {
    "id": "c311757b"
   },
   "outputs": [],
   "source": [
    "# get dataframe ready for processing\n",
    "\n",
    "# make sure the tweets in column \"text\" are strings\n",
    "tweets_df['text'] = tweets_df['text'].astype('str')\n",
    "\n",
    "# delete the unneccessary columns\n",
    "tweets_df = tweets_df.drop(columns=[\"textID\", \"selected_text\"])"
   ]
  },
  {
   "cell_type": "code",
   "execution_count": 6,
   "id": "47021da3",
   "metadata": {
    "id": "47021da3"
   },
   "outputs": [],
   "source": [
    "def process_tweets(tweet):\n",
    "    # make the text all lowercase\n",
    "    tweet = tweet.lower()\n",
    "    \n",
    "    # remove punctuation\n",
    "    tweet = \"\".join(char for char in tweet if char not in string.punctuation)\n",
    "    \n",
    "    # tokenize the tweet for url clean\n",
    "    tokenize_tweet_url = word_tokenize(tweet)\n",
    "    \n",
    "    # remove urls\n",
    "    tokenize_tweet_url = \" \".join([i for i in tokenize_tweet_url if 'http' not in i])\n",
    "    \n",
    "    # tokenize the tweet\n",
    "    tokenize_tweets = word_tokenize(tokenize_tweet_url)\n",
    "    \n",
    "    # remove stopwords\n",
    "    stopword = stopwords.words(\"english\")\n",
    "    tweet_wo_stop = [word for word in tokenize_tweets if word not in stopword]\n",
    "    \n",
    "    # lemmatization\n",
    "    lemm = WordNetLemmatizer()\n",
    "    lemmed = [lemm.lemmatize(word) for word in tweet_wo_stop]\n",
    "    \n",
    "    # put string together\n",
    "    final_tweet = \" \".join(lemmed)\n",
    "    \n",
    "    return final_tweet"
   ]
  },
  {
   "cell_type": "code",
   "execution_count": 7,
   "id": "8616da88",
   "metadata": {
    "colab": {
     "base_uri": "https://localhost:8080/",
     "height": 206
    },
    "id": "8616da88",
    "outputId": "0f56fc3a-e9c8-4e07-806a-275c66bc425d"
   },
   "outputs": [
    {
     "data": {
      "text/html": [
       "<div>\n",
       "<style scoped>\n",
       "    .dataframe tbody tr th:only-of-type {\n",
       "        vertical-align: middle;\n",
       "    }\n",
       "\n",
       "    .dataframe tbody tr th {\n",
       "        vertical-align: top;\n",
       "    }\n",
       "\n",
       "    .dataframe thead th {\n",
       "        text-align: right;\n",
       "    }\n",
       "</style>\n",
       "<table border=\"1\" class=\"dataframe\">\n",
       "  <thead>\n",
       "    <tr style=\"text-align: right;\">\n",
       "      <th></th>\n",
       "      <th>text</th>\n",
       "      <th>sentiment</th>\n",
       "    </tr>\n",
       "  </thead>\n",
       "  <tbody>\n",
       "    <tr>\n",
       "      <th>0</th>\n",
       "      <td>id responded going</td>\n",
       "      <td>neutral</td>\n",
       "    </tr>\n",
       "    <tr>\n",
       "      <th>1</th>\n",
       "      <td>sooo sad miss san diego</td>\n",
       "      <td>negative</td>\n",
       "    </tr>\n",
       "    <tr>\n",
       "      <th>2</th>\n",
       "      <td>bos bullying</td>\n",
       "      <td>negative</td>\n",
       "    </tr>\n",
       "    <tr>\n",
       "      <th>3</th>\n",
       "      <td>interview leave alone</td>\n",
       "      <td>negative</td>\n",
       "    </tr>\n",
       "    <tr>\n",
       "      <th>4</th>\n",
       "      <td>son couldnt put release already bought</td>\n",
       "      <td>negative</td>\n",
       "    </tr>\n",
       "  </tbody>\n",
       "</table>\n",
       "</div>"
      ],
      "text/plain": [
       "                                     text sentiment\n",
       "0                      id responded going   neutral\n",
       "1                 sooo sad miss san diego  negative\n",
       "2                            bos bullying  negative\n",
       "3                   interview leave alone  negative\n",
       "4  son couldnt put release already bought  negative"
      ]
     },
     "execution_count": 7,
     "metadata": {},
     "output_type": "execute_result"
    }
   ],
   "source": [
    "# process tweets using above function\n",
    "tweets_df['text'] = tweets_df['text'].apply(lambda x: process_tweets(x))\n",
    "tweets_df = tweets_df.dropna()\n",
    "\n",
    "# view updated dataframe\n",
    "tweets_df.head()"
   ]
  },
  {
   "cell_type": "code",
   "execution_count": 8,
   "id": "f2da464f",
   "metadata": {
    "colab": {
     "base_uri": "https://localhost:8080/",
     "height": 265
    },
    "id": "f2da464f",
    "outputId": "c241a51e-4052-4f59-ed7d-fc4866c6e209"
   },
   "outputs": [
    {
     "data": {
      "text/plain": [
       "<AxesSubplot:ylabel='sentiment'>"
      ]
     },
     "execution_count": 8,
     "metadata": {},
     "output_type": "execute_result"
    },
    {
     "data": {
      "image/png": "[encoded data removed]",
      "text/plain": [
       "<Figure size 432x288 with 1 Axes>"
      ]
     },
     "metadata": {},
     "output_type": "display_data"
    }
   ],
   "source": [
    "# visualize distribution\n",
    "tweets_df.sentiment.value_counts().plot(kind='pie', autopct='%1.0f%%', colors=['blue', 'gold', 'red'])"
   ]
  },
  {
   "cell_type": "code",
   "execution_count": 9,
   "id": "aa959b52",
   "metadata": {
    "colab": {
     "base_uri": "https://localhost:8080/",
     "height": 206
    },
    "id": "aa959b52",
    "outputId": "8aab4aee-a69f-4ad5-f245-a4c70b3afceb"
   },
   "outputs": [
    {
     "data": {
      "text/html": [
       "<div>\n",
       "<style scoped>\n",
       "    .dataframe tbody tr th:only-of-type {\n",
       "        vertical-align: middle;\n",
       "    }\n",
       "\n",
       "    .dataframe tbody tr th {\n",
       "        vertical-align: top;\n",
       "    }\n",
       "\n",
       "    .dataframe thead th {\n",
       "        text-align: right;\n",
       "    }\n",
       "</style>\n",
       "<table border=\"1\" class=\"dataframe\">\n",
       "  <thead>\n",
       "    <tr style=\"text-align: right;\">\n",
       "      <th></th>\n",
       "      <th>text</th>\n",
       "      <th>sentiment</th>\n",
       "    </tr>\n",
       "  </thead>\n",
       "  <tbody>\n",
       "    <tr>\n",
       "      <th>0</th>\n",
       "      <td>id responded going</td>\n",
       "      <td>0</td>\n",
       "    </tr>\n",
       "    <tr>\n",
       "      <th>1</th>\n",
       "      <td>sooo sad miss san diego</td>\n",
       "      <td>-1</td>\n",
       "    </tr>\n",
       "    <tr>\n",
       "      <th>2</th>\n",
       "      <td>bos bullying</td>\n",
       "      <td>-1</td>\n",
       "    </tr>\n",
       "    <tr>\n",
       "      <th>3</th>\n",
       "      <td>interview leave alone</td>\n",
       "      <td>-1</td>\n",
       "    </tr>\n",
       "    <tr>\n",
       "      <th>4</th>\n",
       "      <td>son couldnt put release already bought</td>\n",
       "      <td>-1</td>\n",
       "    </tr>\n",
       "  </tbody>\n",
       "</table>\n",
       "</div>"
      ],
      "text/plain": [
       "                                     text  sentiment\n",
       "0                      id responded going          0\n",
       "1                 sooo sad miss san diego         -1\n",
       "2                            bos bullying         -1\n",
       "3                   interview leave alone         -1\n",
       "4  son couldnt put release already bought         -1"
      ]
     },
     "execution_count": 9,
     "metadata": {},
     "output_type": "execute_result"
    }
   ],
   "source": [
    "# transform the sentiment column into numbers\n",
    "dict_sentiment = {'positive': 1, 'neutral': 0, 'negative': -1}\n",
    "tweets_df['sentiment'] = tweets_df['sentiment'].apply(lambda x: dict_sentiment.get(x))\n",
    "\n",
    "# view updated dataframe\n",
    "tweets_df.head()"
   ]
  },
  {
   "cell_type": "code",
   "execution_count": 10,
   "id": "c926d3e2",
   "metadata": {
    "id": "c926d3e2"
   },
   "outputs": [],
   "source": [
    "# create a separate data frame without neutral tweets\n",
    "tweets_no_neut = tweets_df[tweets_df[\"sentiment\"] != 0]"
   ]
  },
  {
   "cell_type": "code",
   "execution_count": 11,
   "id": "GnRFkWIBKFU4",
   "metadata": {
    "colab": {
     "base_uri": "https://localhost:8080/",
     "height": 265
    },
    "id": "GnRFkWIBKFU4",
    "outputId": "1ab5fad0-3636-4b7d-d4eb-968d20ff6a7d"
   },
   "outputs": [
    {
     "data": {
      "text/plain": [
       "<AxesSubplot:ylabel='sentiment'>"
      ]
     },
     "execution_count": 11,
     "metadata": {},
     "output_type": "execute_result"
    },
    {
     "data": {
      "image/png": "[encoded data removed]",
      "text/plain": [
       "<Figure size 432x288 with 1 Axes>"
      ]
     },
     "metadata": {},
     "output_type": "display_data"
    }
   ],
   "source": [
    "# visualize distribution - without neutral sentiment\n",
    "tweets_no_neut.sentiment.value_counts().plot(kind='pie', autopct='%1.0f%%', colors=['blue', 'gold', 'red'])"
   ]
  },
  {
   "cell_type": "code",
   "execution_count": 12,
   "id": "7f0280c2",
   "metadata": {
    "id": "7f0280c2"
   },
   "outputs": [],
   "source": [
    "# Create the X and y data \n",
    "def create_train_test_data (tweets_df, train_size):\n",
    "    \n",
    "    # assign X and y to the input and target columns\n",
    "    X = tweets_df['text']\n",
    "    y = tweets_df['sentiment']\n",
    "\n",
    "    # split the data into testing data and training data\n",
    "    if train_size == 0:\n",
    "        X_train, X_test, y_train, y_test = train_test_split(X, y)\n",
    "    else:\n",
    "        X_train, X_test, y_train, y_test = train_test_split(X, y, train_size=train_size)\n",
    "\n",
    "    # transform the data into tfidf vectors\n",
    "    # fit the tfidf vectorizer on the training data to avoid bias\n",
    "    vectorizer = TfidfVectorizer()\n",
    "    X_train_tfidf = vectorizer.fit_transform(X_train)\n",
    "    X_test_tfidf = vectorizer.transform(X_test)\n",
    "    \n",
    "    return X_train_tfidf, X_test_tfidf, y_train, y_test"
   ]
  },
  {
   "cell_type": "code",
   "execution_count": 13,
   "id": "91767a3f",
   "metadata": {
    "id": "91767a3f"
   },
   "outputs": [],
   "source": [
    "# create the model\n",
    "def create_model(tweets_df, attempt_num, model, train_size, notes):\n",
    "    # Get the train and test data\n",
    "    \n",
    "    X_train_tfidf, X_test_tfidf, y_train, y_test = create_train_test_data (tweets_df, train_size)\n",
    "\n",
    "    # create a logistic regression model and fit it to the training data\n",
    "    \n",
    "    model.fit(X_train_tfidf, y_train)\n",
    "    training_score, testing_score, recall, precision = evaluate(model, X_train_tfidf, y_train, X_test_tfidf, y_test, attempt_num, notes)\n",
    "    \n",
    "    return training_score, testing_score, recall, precision"
   ]
  },
  {
   "cell_type": "code",
   "execution_count": 14,
   "id": "0219b4d8",
   "metadata": {
    "id": "0219b4d8"
   },
   "outputs": [],
   "source": [
    "# evaluate the model\n",
    "def evaluate(model, X_train_tfidf, y_train, X_test_tfidf, y_test, attempt_num, notes):\n",
    "    \n",
    "    training_score = model.score(X_train_tfidf, y_train)\n",
    "    testing_score = model.score(X_test_tfidf, y_test)\n",
    "    recall = recall_score(y_test.values, model.predict(X_test_tfidf), average='macro')\n",
    "    precision = precision_score(y_test.values, model.predict(X_test_tfidf), average='macro')\n",
    "    \n",
    "    # look at the scores for the testing and training data\n",
    "    print(f\"Attempt {attempt_num}: {notes} ----------------------------------------\")\n",
    "    print(f\"Training Data Score: {model.score(X_train_tfidf, y_train)}\")\n",
    "    print(f\"Testing Data Score: {model.score(X_test_tfidf, y_test)} \\n\")\n",
    "\n",
    "    # find metrics for testing data\n",
    "    print(confusion_matrix(y_test.values, model.predict(X_test_tfidf)))\n",
    "    print(classification_report(y_test.values, model.predict(X_test_tfidf)))\n",
    "    \n",
    "    return training_score, testing_score, recall, precision"
   ]
  },
  {
   "cell_type": "code",
   "execution_count": 15,
   "id": "4Fu4frkthPzH",
   "metadata": {
    "colab": {
     "base_uri": "https://localhost:8080/",
     "height": 49
    },
    "id": "4Fu4frkthPzH",
    "outputId": "ea3e0701-29fe-447e-d40e-aafb1a49c5dc"
   },
   "outputs": [
    {
     "data": {
      "text/html": [
       "<div>\n",
       "<style scoped>\n",
       "    .dataframe tbody tr th:only-of-type {\n",
       "        vertical-align: middle;\n",
       "    }\n",
       "\n",
       "    .dataframe tbody tr th {\n",
       "        vertical-align: top;\n",
       "    }\n",
       "\n",
       "    .dataframe thead th {\n",
       "        text-align: right;\n",
       "    }\n",
       "</style>\n",
       "<table border=\"1\" class=\"dataframe\">\n",
       "  <thead>\n",
       "    <tr style=\"text-align: right;\">\n",
       "      <th></th>\n",
       "      <th>Model</th>\n",
       "      <th>Attempt Number</th>\n",
       "      <th>Training Score</th>\n",
       "      <th>Testing Score</th>\n",
       "      <th>Parameters</th>\n",
       "      <th>Recall</th>\n",
       "      <th>Precision</th>\n",
       "      <th>Test_Size</th>\n",
       "      <th>Coefficient</th>\n",
       "    </tr>\n",
       "  </thead>\n",
       "  <tbody>\n",
       "  </tbody>\n",
       "</table>\n",
       "</div>"
      ],
      "text/plain": [
       "Empty DataFrame\n",
       "Columns: [Model, Attempt Number, Training Score, Testing Score, Parameters, Recall, Precision, Test_Size, Coefficient]\n",
       "Index: []"
      ]
     },
     "execution_count": 15,
     "metadata": {},
     "output_type": "execute_result"
    }
   ],
   "source": [
    "# create dataframe for attempts\n",
    "performance_df = pd.DataFrame(columns=[\"Model\", \"Attempt Number\", \"Training Score\", \"Testing Score\", \"Parameters\", \"Recall\", \"Precision\", \"Test_Size\", \"Coefficient\"])\n",
    "performance_df.head()"
   ]
  },
  {
   "cell_type": "markdown",
   "id": "7252b265",
   "metadata": {
    "id": "7252b265"
   },
   "source": [
    "## Logistic Regression"
   ]
  },
  {
   "cell_type": "code",
   "execution_count": 16,
   "id": "c056cb6b",
   "metadata": {
    "colab": {
     "base_uri": "https://localhost:8080/"
    },
    "id": "c056cb6b",
    "outputId": "f19a43d7-ec27-4d53-a846-5152f7f803f7"
   },
   "outputs": [
    {
     "name": "stderr",
     "output_type": "stream",
     "text": [
      "C:\\Users\\apfle\\anaconda3\\envs\\PythonData\\lib\\site-packages\\sklearn\\linear_model\\_logistic.py:444: ConvergenceWarning: lbfgs failed to converge (status=1):\n",
      "STOP: TOTAL NO. of ITERATIONS REACHED LIMIT.\n",
      "\n",
      "Increase the number of iterations (max_iter) or scale the data as shown in:\n",
      "    https://scikit-learn.org/stable/modules/preprocessing.html\n",
      "Please also refer to the documentation for alternative solver options:\n",
      "    https://scikit-learn.org/stable/modules/linear_model.html#logistic-regression\n",
      "  n_iter_i = _check_optimize_result(\n"
     ]
    },
    {
     "name": "stdout",
     "output_type": "stream",
     "text": [
      "Attempt 1: 100 iterations, 60/40 split, including neutrals ----------------------------------------\n",
      "Training Data Score: 0.8256307617661329\n",
      "Testing Data Score: 0.6824342763576822 \n",
      "\n",
      "[[1814 1113  180]\n",
      " [ 602 3315  510]\n",
      " [ 143  943 2373]]\n",
      "              precision    recall  f1-score   support\n",
      "\n",
      "          -1       0.71      0.58      0.64      3107\n",
      "           0       0.62      0.75      0.68      4427\n",
      "           1       0.77      0.69      0.73      3459\n",
      "\n",
      "    accuracy                           0.68     10993\n",
      "   macro avg       0.70      0.67      0.68     10993\n",
      "weighted avg       0.69      0.68      0.68     10993\n",
      "\n"
     ]
    },
    {
     "name": "stderr",
     "output_type": "stream",
     "text": [
      "C:\\Users\\apfle\\anaconda3\\envs\\PythonData\\lib\\site-packages\\sklearn\\linear_model\\_logistic.py:444: ConvergenceWarning: lbfgs failed to converge (status=1):\n",
      "STOP: TOTAL NO. of ITERATIONS REACHED LIMIT.\n",
      "\n",
      "Increase the number of iterations (max_iter) or scale the data as shown in:\n",
      "    https://scikit-learn.org/stable/modules/preprocessing.html\n",
      "Please also refer to the documentation for alternative solver options:\n",
      "    https://scikit-learn.org/stable/modules/linear_model.html#logistic-regression\n",
      "  n_iter_i = _check_optimize_result(\n"
     ]
    },
    {
     "name": "stdout",
     "output_type": "stream",
     "text": [
      "Attempt 2: 100 iterations, 80/20 split, including neutrals ----------------------------------------\n",
      "Training Data Score: 0.8169577874818049\n",
      "Testing Data Score: 0.6871020556667273 \n",
      "\n",
      "[[ 914  563   92]\n",
      " [ 272 1639  270]\n",
      " [  69  454 1224]]\n",
      "              precision    recall  f1-score   support\n",
      "\n",
      "          -1       0.73      0.58      0.65      1569\n",
      "           0       0.62      0.75      0.68      2181\n",
      "           1       0.77      0.70      0.73      1747\n",
      "\n",
      "    accuracy                           0.69      5497\n",
      "   macro avg       0.71      0.68      0.69      5497\n",
      "weighted avg       0.70      0.69      0.69      5497\n",
      "\n",
      "Attempt 3: 100 iterations, 60/40 split, excluding neutrals ----------------------------------------\n",
      "Training Data Score: 0.9293063053886116\n",
      "Testing Data Score: 0.8632752826153376 \n",
      "\n",
      "[[2656  392]\n",
      " [ 503 2995]]\n",
      "              precision    recall  f1-score   support\n",
      "\n",
      "          -1       0.84      0.87      0.86      3048\n",
      "           1       0.88      0.86      0.87      3498\n",
      "\n",
      "    accuracy                           0.86      6546\n",
      "   macro avg       0.86      0.86      0.86      6546\n",
      "weighted avg       0.86      0.86      0.86      6546\n",
      "\n",
      "Attempt 4: 100 iterations, 80/20 split, excluding neutrals ----------------------------------------\n",
      "Training Data Score: 0.9317799847211612\n",
      "Testing Data Score: 0.8637335777574091 \n",
      "\n",
      "[[1347  215]\n",
      " [ 231 1480]]\n",
      "              precision    recall  f1-score   support\n",
      "\n",
      "          -1       0.85      0.86      0.86      1562\n",
      "           1       0.87      0.86      0.87      1711\n",
      "\n",
      "    accuracy                           0.86      3273\n",
      "   macro avg       0.86      0.86      0.86      3273\n",
      "weighted avg       0.86      0.86      0.86      3273\n",
      "\n",
      "Attempt 5: 300 iterations, 60/40 split, including neutrals ----------------------------------------\n",
      "Training Data Score: 0.8259946627850558\n",
      "Testing Data Score: 0.6807059037569362 \n",
      "\n",
      "[[1779 1209  158]\n",
      " [ 556 3391  544]\n",
      " [ 144  899 2313]]\n",
      "              precision    recall  f1-score   support\n",
      "\n",
      "          -1       0.72      0.57      0.63      3146\n",
      "           0       0.62      0.76      0.68      4491\n",
      "           1       0.77      0.69      0.73      3356\n",
      "\n",
      "    accuracy                           0.68     10993\n",
      "   macro avg       0.70      0.67      0.68     10993\n",
      "weighted avg       0.69      0.68      0.68     10993\n",
      "\n",
      "Attempt 6: 300 iterations, 80/20 split, including neutrals ----------------------------------------\n",
      "Training Data Score: 0.819641557496361\n",
      "Testing Data Score: 0.6903765690376569 \n",
      "\n",
      "[[ 949  542   91]\n",
      " [ 295 1686  283]\n",
      " [  60  431 1160]]\n",
      "              precision    recall  f1-score   support\n",
      "\n",
      "          -1       0.73      0.60      0.66      1582\n",
      "           0       0.63      0.74      0.68      2264\n",
      "           1       0.76      0.70      0.73      1651\n",
      "\n",
      "    accuracy                           0.69      5497\n",
      "   macro avg       0.71      0.68      0.69      5497\n",
      "weighted avg       0.70      0.69      0.69      5497\n",
      "\n",
      "Attempt 7: 300 iterations, 60/40 split, excluding neutrals ----------------------------------------\n",
      "Training Data Score: 0.9342976469389834\n",
      "Testing Data Score: 0.8640391078521235 \n",
      "\n",
      "[[2708  410]\n",
      " [ 480 2948]]\n",
      "              precision    recall  f1-score   support\n",
      "\n",
      "          -1       0.85      0.87      0.86      3118\n",
      "           1       0.88      0.86      0.87      3428\n",
      "\n",
      "    accuracy                           0.86      6546\n",
      "   macro avg       0.86      0.86      0.86      6546\n",
      "weighted avg       0.86      0.86      0.86      6546\n",
      "\n",
      "Attempt 8: 300 iterations, 80/20 split, excluding neutrals ----------------------------------------\n",
      "Training Data Score: 0.9310924369747899\n",
      "Testing Data Score: 0.869233119462267 \n",
      "\n",
      "[[1352  209]\n",
      " [ 219 1493]]\n",
      "              precision    recall  f1-score   support\n",
      "\n",
      "          -1       0.86      0.87      0.86      1561\n",
      "           1       0.88      0.87      0.87      1712\n",
      "\n",
      "    accuracy                           0.87      3273\n",
      "   macro avg       0.87      0.87      0.87      3273\n",
      "weighted avg       0.87      0.87      0.87      3273\n",
      "\n"
     ]
    }
   ],
   "source": [
    "from sklearn.linear_model import LogisticRegression\n",
    "\n",
    "model = LogisticRegression(max_iter=100)\n",
    "model2 = LogisticRegression(max_iter=300)\n",
    "\n",
    "# models with 100 max iterations\n",
    "training_score1, testing_score1, recall1, precision1 = create_model(tweets_df, 1, model, .6, \"100 iterations, 60/40 split, including neutrals\")\n",
    "training_score2, testing_score2, recall2, precision2 = create_model(tweets_df, 2, model, .8, \"100 iterations, 80/20 split, including neutrals\")\n",
    "training_score3, testing_score3, recall3, precision3 = create_model(tweets_no_neut, 3, model, .6, \"100 iterations, 60/40 split, excluding neutrals\")\n",
    "training_score4, testing_score4, recall4, precision4 = create_model(tweets_no_neut, 4, model, .8, \"100 iterations, 80/20 split, excluding neutrals\")\n",
    "\n",
    "performance_df.loc[len(performance_df.index)] = ['Logistic Regression', 1, training_score1, testing_score1, 'including neutrals', recall1, precision1, .6, 100]\n",
    "performance_df.loc[len(performance_df.index)] = ['Logistic Regression', 2, training_score2, testing_score2, 'including neutrals', recall2, precision2, .8, 100]\n",
    "performance_df.loc[len(performance_df.index)] = ['Logistic Regression', 3, training_score3, testing_score3, 'excluding neutrals', recall3, precision3, .6, 100]\n",
    "performance_df.loc[len(performance_df.index)] = ['Logistic Regression', 4, training_score4, testing_score4, 'excluding neutrals', recall4, precision4, .8, 100]\n",
    "\n",
    "# models with 300 max iterations\n",
    "training_score5, testing_score5, recall5, precision5 = create_model(tweets_df, 5, model2, .6, \"300 iterations, 60/40 split, including neutrals\")\n",
    "training_score6, testing_score6, recall6, precision6 = create_model(tweets_df, 6, model2, .8, \"300 iterations, 80/20 split, including neutrals\")\n",
    "training_score7, testing_score7, recall7, precision7 = create_model(tweets_no_neut, 7, model2, .6, \"300 iterations, 60/40 split, excluding neutrals\")\n",
    "training_score8, testing_score8, recall8, precision8 = create_model(tweets_no_neut, 8, model2, .8, \"300 iterations, 80/20 split, excluding neutrals\")\n",
    "\n",
    "performance_df.loc[len(performance_df.index)] = ['Logistic Regression', 5, training_score5, testing_score5, 'including neutrals', recall5, precision5, .6, 300]\n",
    "performance_df.loc[len(performance_df.index)] = ['Logistic Regression', 6, training_score6, testing_score6, 'including neutrals', recall6, precision6, .8, 300]\n",
    "performance_df.loc[len(performance_df.index)] = ['Logistic Regression', 7, training_score7, testing_score7, 'excluding neutrals', recall7, precision7, .6, 300]\n",
    "performance_df.loc[len(performance_df.index)] = ['Logistic Regression', 8, training_score8, testing_score8, 'excluding neutrals', recall8, precision8, .8, 300]"
   ]
  },
  {
   "cell_type": "markdown",
   "id": "7a549839",
   "metadata": {},
   "source": [
    "![title](Images/LogRegImage.png)"
   ]
  },
  {
   "cell_type": "markdown",
   "id": "b194d5d2",
   "metadata": {
    "id": "b194d5d2"
   },
   "source": [
    "## Random Forest Classifier"
   ]
  },
  {
   "cell_type": "code",
   "execution_count": 17,
   "id": "31875fa3",
   "metadata": {
    "colab": {
     "base_uri": "https://localhost:8080/"
    },
    "id": "31875fa3",
    "outputId": "e94f264e-b756-42ee-9a9d-85f3efc5483c"
   },
   "outputs": [
    {
     "name": "stdout",
     "output_type": "stream",
     "text": [
      "Attempt 1: 100 estimators, 60/40 split, including neutrals ----------------------------------------\n",
      "Training Data Score: 0.997695293546822\n",
      "Testing Data Score: 0.6953515873737833 \n",
      "\n",
      "[[1824 1126  222]\n",
      " [ 495 3302  575]\n",
      " [ 122  809 2518]]\n",
      "              precision    recall  f1-score   support\n",
      "\n",
      "          -1       0.75      0.58      0.65      3172\n",
      "           0       0.63      0.76      0.69      4372\n",
      "           1       0.76      0.73      0.74      3449\n",
      "\n",
      "    accuracy                           0.70     10993\n",
      "   macro avg       0.71      0.69      0.69     10993\n",
      "weighted avg       0.70      0.70      0.69     10993\n",
      "\n",
      "Attempt 2: 100 estimators, 80/20 split, including neutrals ----------------------------------------\n",
      "Training Data Score: 0.99745269286754\n",
      "Testing Data Score: 0.6960160087320356 \n",
      "\n",
      "[[ 913  539  119]\n",
      " [ 273 1645  306]\n",
      " [  69  365 1268]]\n",
      "              precision    recall  f1-score   support\n",
      "\n",
      "          -1       0.73      0.58      0.65      1571\n",
      "           0       0.65      0.74      0.69      2224\n",
      "           1       0.75      0.75      0.75      1702\n",
      "\n",
      "    accuracy                           0.70      5497\n",
      "   macro avg       0.71      0.69      0.69      5497\n",
      "weighted avg       0.70      0.70      0.69      5497\n",
      "\n",
      "Attempt 3: 100 estimators, 60/40 split, excluding neutrals ----------------------------------------\n",
      "Training Data Score: 0.9994906794336356\n",
      "Testing Data Score: 0.851512373968836 \n",
      "\n",
      "[[2696  402]\n",
      " [ 570 2878]]\n",
      "              precision    recall  f1-score   support\n",
      "\n",
      "          -1       0.83      0.87      0.85      3098\n",
      "           1       0.88      0.83      0.86      3448\n",
      "\n",
      "    accuracy                           0.85      6546\n",
      "   macro avg       0.85      0.85      0.85      6546\n",
      "weighted avg       0.85      0.85      0.85      6546\n",
      "\n",
      "Attempt 4: 100 estimators, 80/20 split, excluding neutrals ----------------------------------------\n",
      "Training Data Score: 0.9995416348357525\n",
      "Testing Data Score: 0.8505957836846929 \n",
      "\n",
      "[[1363  203]\n",
      " [ 286 1421]]\n",
      "              precision    recall  f1-score   support\n",
      "\n",
      "          -1       0.83      0.87      0.85      1566\n",
      "           1       0.88      0.83      0.85      1707\n",
      "\n",
      "    accuracy                           0.85      3273\n",
      "   macro avg       0.85      0.85      0.85      3273\n",
      "weighted avg       0.85      0.85      0.85      3273\n",
      "\n",
      "Attempt 5: 300 estimators, 60/40 split, including neutrals ----------------------------------------\n",
      "Training Data Score: 0.9977559437166424\n",
      "Testing Data Score: 0.6967160920585828 \n",
      "\n",
      "[[1821 1111  245]\n",
      " [ 474 3300  631]\n",
      " [ 128  745 2538]]\n",
      "              precision    recall  f1-score   support\n",
      "\n",
      "          -1       0.75      0.57      0.65      3177\n",
      "           0       0.64      0.75      0.69      4405\n",
      "           1       0.74      0.74      0.74      3411\n",
      "\n",
      "    accuracy                           0.70     10993\n",
      "   macro avg       0.71      0.69      0.69     10993\n",
      "weighted avg       0.70      0.70      0.70     10993\n",
      "\n",
      "Attempt 6: 300 estimators, 80/20 split, including neutrals ----------------------------------------\n",
      "Training Data Score: 0.9976801310043668\n",
      "Testing Data Score: 0.6920138257231218 \n",
      "\n",
      "[[ 872  543  120]\n",
      " [ 238 1693  327]\n",
      " [  71  394 1239]]\n",
      "              precision    recall  f1-score   support\n",
      "\n",
      "          -1       0.74      0.57      0.64      1535\n",
      "           0       0.64      0.75      0.69      2258\n",
      "           1       0.73      0.73      0.73      1704\n",
      "\n",
      "    accuracy                           0.69      5497\n",
      "   macro avg       0.71      0.68      0.69      5497\n",
      "weighted avg       0.70      0.69      0.69      5497\n",
      "\n",
      "Attempt 7: 300 estimators, 60/40 split, excluding neutrals ----------------------------------------\n",
      "Training Data Score: 0.9993888153203626\n",
      "Testing Data Score: 0.846929422548121 \n",
      "\n",
      "[[2708  415]\n",
      " [ 587 2836]]\n",
      "              precision    recall  f1-score   support\n",
      "\n",
      "          -1       0.82      0.87      0.84      3123\n",
      "           1       0.87      0.83      0.85      3423\n",
      "\n",
      "    accuracy                           0.85      6546\n",
      "   macro avg       0.85      0.85      0.85      6546\n",
      "weighted avg       0.85      0.85      0.85      6546\n",
      "\n",
      "Attempt 8: 300 estimators, 80/20 split, excluding neutrals ----------------------------------------\n",
      "Training Data Score: 0.9995416348357525\n",
      "Testing Data Score: 0.8527344943476932 \n",
      "\n",
      "[[1407  216]\n",
      " [ 266 1384]]\n",
      "              precision    recall  f1-score   support\n",
      "\n",
      "          -1       0.84      0.87      0.85      1623\n",
      "           1       0.86      0.84      0.85      1650\n",
      "\n",
      "    accuracy                           0.85      3273\n",
      "   macro avg       0.85      0.85      0.85      3273\n",
      "weighted avg       0.85      0.85      0.85      3273\n",
      "\n"
     ]
    }
   ],
   "source": [
    "from sklearn.ensemble import RandomForestClassifier\n",
    "\n",
    "twitter_classi1 = RandomForestClassifier(n_estimators=100, random_state=0)\n",
    "twitter_classi2 = RandomForestClassifier(n_estimators=300, random_state=0)\n",
    "\n",
    "# models with 100 estimators\n",
    "training_score1, testing_score1, recall1, precision1 = create_model(tweets_df, 1, twitter_classi1, .6, \"100 estimators, 60/40 split, including neutrals\")\n",
    "training_score2, testing_score2, recall2, precision2 = create_model(tweets_df, 2, twitter_classi1, .8, \"100 estimators, 80/20 split, including neutrals\")\n",
    "training_score3, testing_score3, recall3, precision3 = create_model(tweets_no_neut, 3, twitter_classi1, .6, \"100 estimators, 60/40 split, excluding neutrals\")\n",
    "training_score4, testing_score4, recall4, precision4 = create_model(tweets_no_neut, 4, twitter_classi1, .8, \"100 estimators, 80/20 split, excluding neutrals\")\n",
    "\n",
    "performance_df.loc[len(performance_df.index)] = ['Random Forest', 1, training_score1, testing_score1, 'including neutrals', recall1, precision1, .6, 100]\n",
    "performance_df.loc[len(performance_df.index)] = ['Random Forest', 2, training_score2, testing_score2, 'including neutrals', recall2, precision2, .8, 100]\n",
    "performance_df.loc[len(performance_df.index)] = ['Random Forest', 3, training_score3, testing_score3, 'excluding neutrals', recall3, precision3, .6, 100]\n",
    "performance_df.loc[len(performance_df.index)] = ['Random Forest', 4, training_score4, testing_score4, 'excluding neutrals', recall4, precision4, .8, 100]\n",
    "\n",
    "# models with 300 estimators\n",
    "training_score5, testing_score5, recall5, precision5 = create_model(tweets_df, 5, twitter_classi2, .6, \"300 estimators, 60/40 split, including neutrals\")\n",
    "training_score6, testing_score6, recall6, precision6 = create_model(tweets_df, 6, twitter_classi2, .8, \"300 estimators, 80/20 split, including neutrals\")\n",
    "training_score7, testing_score7, recall7, precision7 = create_model(tweets_no_neut, 7, twitter_classi2, .6, \"300 estimators, 60/40 split, excluding neutrals\")\n",
    "training_score8, testing_score8, recall8, precision8 = create_model(tweets_no_neut, 8, twitter_classi2, .8, \"300 estimators, 80/20 split, excluding neutrals\")\n",
    "\n",
    "performance_df.loc[len(performance_df.index)] = ['Random Forest', 5, training_score5, testing_score5, 'including neutrals', recall5, precision5, .6, 300]\n",
    "performance_df.loc[len(performance_df.index)] = ['Random Forest', 6, training_score6, testing_score6, 'including neutrals', recall6, precision6, .8, 300]\n",
    "performance_df.loc[len(performance_df.index)] = ['Random Forest', 7, training_score7, testing_score7, 'excluding neutrals', recall7, precision7, .6, 300]\n",
    "performance_df.loc[len(performance_df.index)] = ['Random Forest', 8, training_score8, testing_score8, 'excluding neutrals', recall8, precision8, .8, 300]"
   ]
  },
  {
   "cell_type": "markdown",
   "id": "a7bc7552",
   "metadata": {},
   "source": [
    "![title](Images/RandForImage.png)"
   ]
  },
  {
   "cell_type": "markdown",
   "id": "a107093b",
   "metadata": {
    "id": "a107093b"
   },
   "source": [
    "## Extra Trees Classifier"
   ]
  },
  {
   "cell_type": "code",
   "execution_count": 19,
   "id": "a1559f69",
   "metadata": {
    "colab": {
     "base_uri": "https://localhost:8080/"
    },
    "id": "a1559f69",
    "outputId": "4d763a27-5569-437c-89f8-66fc317c6f82"
   },
   "outputs": [
    {
     "name": "stdout",
     "output_type": "stream",
     "text": [
      "Attempt 1: 100 estimators, 60/40 split, including neutrals ----------------------------------------\n",
      "Training Data Score: 0.9979985443959243\n",
      "Testing Data Score: 0.7031747475666333 \n",
      "\n",
      "[[1987  895  235]\n",
      " [ 585 3217  657]\n",
      " [ 156  735 2526]]\n",
      "              precision    recall  f1-score   support\n",
      "\n",
      "          -1       0.73      0.64      0.68      3117\n",
      "           0       0.66      0.72      0.69      4459\n",
      "           1       0.74      0.74      0.74      3417\n",
      "\n",
      "    accuracy                           0.70     10993\n",
      "   macro avg       0.71      0.70      0.70     10993\n",
      "weighted avg       0.71      0.70      0.70     10993\n",
      "\n",
      "Attempt 2: 100 estimators, 80/20 split, including neutrals ----------------------------------------\n",
      "Training Data Score: 0.997316229985444\n",
      "Testing Data Score: 0.702746952883391 \n",
      "\n",
      "[[ 959  486  114]\n",
      " [ 284 1592  319]\n",
      " [  75  356 1312]]\n",
      "              precision    recall  f1-score   support\n",
      "\n",
      "          -1       0.73      0.62      0.67      1559\n",
      "           0       0.65      0.73      0.69      2195\n",
      "           1       0.75      0.75      0.75      1743\n",
      "\n",
      "    accuracy                           0.70      5497\n",
      "   macro avg       0.71      0.70      0.70      5497\n",
      "weighted avg       0.71      0.70      0.70      5497\n",
      "\n",
      "Attempt 3: 100 estimators, 60/40 split, excluding neutrals ----------------------------------------\n",
      "Training Data Score: 0.9995925435469084\n",
      "Testing Data Score: 0.8481515429269783 \n",
      "\n",
      "[[2656  457]\n",
      " [ 537 2896]]\n",
      "              precision    recall  f1-score   support\n",
      "\n",
      "          -1       0.83      0.85      0.84      3113\n",
      "           1       0.86      0.84      0.85      3433\n",
      "\n",
      "    accuracy                           0.85      6546\n",
      "   macro avg       0.85      0.85      0.85      6546\n",
      "weighted avg       0.85      0.85      0.85      6546\n",
      "\n",
      "Attempt 4: 100 estimators, 80/20 split, excluding neutrals ----------------------------------------\n",
      "Training Data Score: 0.9995416348357525\n",
      "Testing Data Score: 0.8612893369996945 \n",
      "\n",
      "[[1383  208]\n",
      " [ 246 1436]]\n",
      "              precision    recall  f1-score   support\n",
      "\n",
      "          -1       0.85      0.87      0.86      1591\n",
      "           1       0.87      0.85      0.86      1682\n",
      "\n",
      "    accuracy                           0.86      3273\n",
      "   macro avg       0.86      0.86      0.86      3273\n",
      "weighted avg       0.86      0.86      0.86      3273\n",
      "\n",
      "Attempt 5: 300 estimators, 60/40 split, including neutrals ----------------------------------------\n",
      "Training Data Score: 0.9979985443959243\n",
      "Testing Data Score: 0.7077230965159647 \n",
      "\n",
      "[[1842  903  235]\n",
      " [ 588 3266  624]\n",
      " [ 157  706 2672]]\n",
      "              precision    recall  f1-score   support\n",
      "\n",
      "          -1       0.71      0.62      0.66      2980\n",
      "           0       0.67      0.73      0.70      4478\n",
      "           1       0.76      0.76      0.76      3535\n",
      "\n",
      "    accuracy                           0.71     10993\n",
      "   macro avg       0.71      0.70      0.71     10993\n",
      "weighted avg       0.71      0.71      0.71     10993\n",
      "\n",
      "Attempt 6: 300 estimators, 80/20 split, including neutrals ----------------------------------------\n",
      "Training Data Score: 0.9976346433770015\n",
      "Testing Data Score: 0.7118428233581954 \n",
      "\n",
      "[[ 999  465  110]\n",
      " [ 282 1626  326]\n",
      " [  64  337 1288]]\n",
      "              precision    recall  f1-score   support\n",
      "\n",
      "          -1       0.74      0.63      0.68      1574\n",
      "           0       0.67      0.73      0.70      2234\n",
      "           1       0.75      0.76      0.75      1689\n",
      "\n",
      "    accuracy                           0.71      5497\n",
      "   macro avg       0.72      0.71      0.71      5497\n",
      "weighted avg       0.71      0.71      0.71      5497\n",
      "\n",
      "Attempt 7: 300 estimators, 60/40 split, excluding neutrals ----------------------------------------\n",
      "Training Data Score: 0.9996944076601814\n",
      "Testing Data Score: 0.852581729300336 \n",
      "\n",
      "[[2677  421]\n",
      " [ 544 2904]]\n",
      "              precision    recall  f1-score   support\n",
      "\n",
      "          -1       0.83      0.86      0.85      3098\n",
      "           1       0.87      0.84      0.86      3448\n",
      "\n",
      "    accuracy                           0.85      6546\n",
      "   macro avg       0.85      0.85      0.85      6546\n",
      "weighted avg       0.85      0.85      0.85      6546\n",
      "\n",
      "Attempt 8: 300 estimators, 80/20 split, excluding neutrals ----------------------------------------\n",
      "Training Data Score: 0.9996180290297937\n",
      "Testing Data Score: 0.867399938893981 \n",
      "\n",
      "[[1387  187]\n",
      " [ 247 1452]]\n",
      "              precision    recall  f1-score   support\n",
      "\n",
      "          -1       0.85      0.88      0.86      1574\n",
      "           1       0.89      0.85      0.87      1699\n",
      "\n",
      "    accuracy                           0.87      3273\n",
      "   macro avg       0.87      0.87      0.87      3273\n",
      "weighted avg       0.87      0.87      0.87      3273\n",
      "\n"
     ]
    }
   ],
   "source": [
    "from sklearn.ensemble import ExtraTreesClassifier\n",
    "\n",
    "twitter_ex1 = ExtraTreesClassifier(n_estimators=100, random_state=1)\n",
    "twitter_ex2 = ExtraTreesClassifier(n_estimators=300, random_state=1)\n",
    "\n",
    "# models with 100 estimators\n",
    "training_score1, testing_score1, recall1, precision1 = create_model(tweets_df, 1, twitter_ex1, .6, \"100 estimators, 60/40 split, including neutrals\")\n",
    "training_score2, testing_score2, recall2, precision2 = create_model(tweets_df, 2, twitter_ex1, .8, \"100 estimators, 80/20 split, including neutrals\")\n",
    "training_score3, testing_score3, recall3, precision3 = create_model(tweets_no_neut, 3, twitter_ex1, .6, \"100 estimators, 60/40 split, excluding neutrals\")\n",
    "training_score4, testing_score4, recall4, precision4 = create_model(tweets_no_neut, 4, twitter_ex1, .8, \"100 estimators, 80/20 split, excluding neutrals\")\n",
    "\n",
    "performance_df.loc[len(performance_df.index)] = ['Extreme Trees', 1, training_score1, testing_score1, 'including neutrals', recall1, precision1, .6, 100]\n",
    "performance_df.loc[len(performance_df.index)] = ['Extreme Trees', 2, training_score2, testing_score2, 'including neutrals', recall2, precision2, .8, 100]\n",
    "performance_df.loc[len(performance_df.index)] = ['Extreme Trees', 3, training_score3, testing_score3, 'excluding neutrals', recall3, precision3, .6, 100]\n",
    "performance_df.loc[len(performance_df.index)] = ['Extreme Trees', 4, training_score4, testing_score4, 'excluding neutrals', recall4, precision4, .8, 100]\n",
    "\n",
    "# models with 300 estimators\n",
    "training_score5, testing_score5, recall5, precision5 = create_model(tweets_df, 5, twitter_ex2, .6, \"300 estimators, 60/40 split, including neutrals\")\n",
    "training_score6, testing_score6, recall6, precision6 = create_model(tweets_df, 6, twitter_ex2, .8, \"300 estimators, 80/20 split, including neutrals\")\n",
    "training_score7, testing_score7, recall7, precision7 = create_model(tweets_no_neut, 7, twitter_ex2, .6, \"300 estimators, 60/40 split, excluding neutrals\")\n",
    "training_score8, testing_score8, recall8, precision8 = create_model(tweets_no_neut, 8, twitter_ex2, .8, \"300 estimators, 80/20 split, excluding neutrals\")\n",
    "\n",
    "performance_df.loc[len(performance_df.index)] = ['Extreme Trees', 5, training_score5, testing_score5, 'including neutrals', recall5, precision5, .6, 300]\n",
    "performance_df.loc[len(performance_df.index)] = ['Extreme Trees', 6, training_score6, testing_score6, 'including neutrals', recall6, precision6, .8, 300]\n",
    "performance_df.loc[len(performance_df.index)] = ['Extreme Trees', 7, training_score7, testing_score7, 'excluding neutrals', recall7, precision7, .6, 300]\n",
    "performance_df.loc[len(performance_df.index)] = ['Extreme Trees', 8, training_score8, testing_score8, 'excluding neutrals', recall8, precision8, .8, 300]"
   ]
  },
  {
   "cell_type": "markdown",
   "id": "1f2cac28",
   "metadata": {},
   "source": [
    "![title](Images/ExtTreeImage.png)"
   ]
  },
  {
   "cell_type": "markdown",
   "id": "0002db64",
   "metadata": {
    "id": "0002db64"
   },
   "source": [
    "## Ada Boost Classifier"
   ]
  },
  {
   "cell_type": "code",
   "execution_count": 16,
   "id": "772d9f0b",
   "metadata": {
    "colab": {
     "base_uri": "https://localhost:8080/"
    },
    "id": "772d9f0b",
    "outputId": "c48e6440-ffae-4c48-e051-81efb218505a"
   },
   "outputs": [
    {
     "name": "stdout",
     "output_type": "stream",
     "text": [
      "Attempt 1: 50 estimators, 60/40 split, including neutrals ----------------------------------------\n",
      "Training Data Score: 0.6555070354196991\n",
      "Testing Data Score: 0.6486855271536432 \n",
      "\n",
      "[[1232 1668  202]\n",
      " [ 296 3633  498]\n",
      " [ 101 1097 2266]]\n",
      "              precision    recall  f1-score   support\n",
      "\n",
      "          -1       0.76      0.40      0.52      3102\n",
      "           0       0.57      0.82      0.67      4427\n",
      "           1       0.76      0.65      0.70      3464\n",
      "\n",
      "    accuracy                           0.65     10993\n",
      "   macro avg       0.70      0.62      0.63     10993\n",
      "weighted avg       0.68      0.65      0.64     10993\n",
      "\n",
      "Attempt 2: 50 estimators, 80/20 split, including neutrals ----------------------------------------\n",
      "Training Data Score: 0.654839883551674\n",
      "Testing Data Score: 0.6487174822630526 \n",
      "\n",
      "[[ 609  907  112]\n",
      " [ 126 1803  246]\n",
      " [  43  497 1154]]\n",
      "              precision    recall  f1-score   support\n",
      "\n",
      "          -1       0.78      0.37      0.51      1628\n",
      "           0       0.56      0.83      0.67      2175\n",
      "           1       0.76      0.68      0.72      1694\n",
      "\n",
      "    accuracy                           0.65      5497\n",
      "   macro avg       0.70      0.63      0.63      5497\n",
      "weighted avg       0.69      0.65      0.64      5497\n",
      "\n",
      "Attempt 3: 50 estimators, 60/40 split, excluding neutrals ----------------------------------------\n",
      "Training Data Score: 0.7999388815320363\n",
      "Testing Data Score: 0.7991139627253284 \n",
      "\n",
      "[[2909  306]\n",
      " [1009 2322]]\n",
      "              precision    recall  f1-score   support\n",
      "\n",
      "          -1       0.74      0.90      0.82      3215\n",
      "           1       0.88      0.70      0.78      3331\n",
      "\n",
      "    accuracy                           0.80      6546\n",
      "   macro avg       0.81      0.80      0.80      6546\n",
      "weighted avg       0.81      0.80      0.80      6546\n",
      "\n",
      "Attempt 4: 50 estimators, 80/20 split, excluding neutrals ----------------------------------------\n",
      "Training Data Score: 0.8068754774637128\n",
      "Testing Data Score: 0.7952948365413993 \n",
      "\n",
      "[[1379  135]\n",
      " [ 535 1224]]\n",
      "              precision    recall  f1-score   support\n",
      "\n",
      "          -1       0.72      0.91      0.80      1514\n",
      "           1       0.90      0.70      0.79      1759\n",
      "\n",
      "    accuracy                           0.80      3273\n",
      "   macro avg       0.81      0.80      0.79      3273\n",
      "weighted avg       0.82      0.80      0.79      3273\n",
      "\n",
      "Attempt 5: 300 estimators, 60/40 split, including neutrals ----------------------------------------\n",
      "Training Data Score: 0.7122149442018437\n",
      "Testing Data Score: 0.673428545438006 \n",
      "\n",
      "[[1680 1281  192]\n",
      " [ 470 3459  508]\n",
      " [ 138 1001 2264]]\n",
      "              precision    recall  f1-score   support\n",
      "\n",
      "          -1       0.73      0.53      0.62      3153\n",
      "           0       0.60      0.78      0.68      4437\n",
      "           1       0.76      0.67      0.71      3403\n",
      "\n",
      "    accuracy                           0.67     10993\n",
      "   macro avg       0.70      0.66      0.67     10993\n",
      "weighted avg       0.69      0.67      0.67     10993\n",
      "\n",
      "Attempt 6: 300 estimators, 80/20 split, including neutrals ----------------------------------------\n",
      "Training Data Score: 0.7148835516739447\n",
      "Testing Data Score: 0.6881935601237038 \n",
      "\n",
      "[[ 821  623   84]\n",
      " [ 230 1748  255]\n",
      " [  66  456 1214]]\n",
      "              precision    recall  f1-score   support\n",
      "\n",
      "          -1       0.74      0.54      0.62      1528\n",
      "           0       0.62      0.78      0.69      2233\n",
      "           1       0.78      0.70      0.74      1736\n",
      "\n",
      "    accuracy                           0.69      5497\n",
      "   macro avg       0.71      0.67      0.68      5497\n",
      "weighted avg       0.70      0.69      0.69      5497\n",
      "\n",
      "Attempt 7: 300 estimators, 60/40 split, excluding neutrals ----------------------------------------\n",
      "Training Data Score: 0.8838749108689009\n",
      "Testing Data Score: 0.8420409410326917 \n",
      "\n",
      "[[2695  468]\n",
      " [ 566 2817]]\n",
      "              precision    recall  f1-score   support\n",
      "\n",
      "          -1       0.83      0.85      0.84      3163\n",
      "           1       0.86      0.83      0.84      3383\n",
      "\n",
      "    accuracy                           0.84      6546\n",
      "   macro avg       0.84      0.84      0.84      6546\n",
      "weighted avg       0.84      0.84      0.84      6546\n",
      "\n",
      "Attempt 8: 300 estimators, 80/20 split, excluding neutrals ----------------------------------------\n",
      "Training Data Score: 0.8726508785332314\n",
      "Testing Data Score: 0.844179651695692 \n",
      "\n",
      "[[1360  225]\n",
      " [ 285 1403]]\n",
      "              precision    recall  f1-score   support\n",
      "\n",
      "          -1       0.83      0.86      0.84      1585\n",
      "           1       0.86      0.83      0.85      1688\n",
      "\n",
      "    accuracy                           0.84      3273\n",
      "   macro avg       0.84      0.84      0.84      3273\n",
      "weighted avg       0.84      0.84      0.84      3273\n",
      "\n"
     ]
    }
   ],
   "source": [
    "from sklearn.ensemble import AdaBoostClassifier\n",
    "\n",
    "twitter_ada1 = AdaBoostClassifier(n_estimators=50, random_state=1)\n",
    "twitter_ada2 = AdaBoostClassifier(n_estimators=300, random_state=1)\n",
    "\n",
    "\n",
    "# models with 50 estimators\n",
    "training_score1, testing_score1, recall1, precision1 = create_model(tweets_df, 1, twitter_ada1, .6, \"50 estimators, 60/40 split, including neutrals\")\n",
    "training_score2, testing_score2, recall2, precision2 = create_model(tweets_df, 2, twitter_ada1, .8, \"50 estimators, 80/20 split, including neutrals\")\n",
    "training_score3, testing_score3, recall3, precision3 = create_model(tweets_no_neut, 3, twitter_ada1, .6, \"50 estimators, 60/40 split, excluding neutrals\")\n",
    "training_score4, testing_score4, recall4, precision4 = create_model(tweets_no_neut, 4, twitter_ada1, .8, \"50 estimators, 80/20 split, excluding neutrals\")\n",
    "\n",
    "performance_df.loc[len(performance_df.index)] = ['Ada Boost', 1, training_score1, testing_score1, 'including neutrals', recall1, precision1, .6, 50]\n",
    "performance_df.loc[len(performance_df.index)] = ['Ada Boost', 2, training_score2, testing_score2, 'including neutrals', recall2, precision2, .8, 50]\n",
    "performance_df.loc[len(performance_df.index)] = ['Ada Boost', 3, training_score3, testing_score3, 'excluding neutrals', recall3, precision3, .6, 50]\n",
    "performance_df.loc[len(performance_df.index)] = ['Ada Boost', 4, training_score4, testing_score4, 'excluding neutrals', recall4, precision4, .8, 50]\n",
    "\n",
    "# models with 300 estimators\n",
    "training_score5, testing_score5, recall5, precision5 = create_model(tweets_df, 5, twitter_ada2, .6, \"300 estimators, 60/40 split, including neutrals\")\n",
    "training_score6, testing_score6, recall6, precision6 = create_model(tweets_df, 6, twitter_ada2, .8, \"300 estimators, 80/20 split, including neutrals\")\n",
    "training_score7, testing_score7, recall7, precision7 = create_model(tweets_no_neut, 7, twitter_ada2, .6, \"300 estimators, 60/40 split, excluding neutrals\")\n",
    "training_score8, testing_score8, recall8, precision8 = create_model(tweets_no_neut, 8, twitter_ada2, .8, \"300 estimators, 80/20 split, excluding neutrals\")\n",
    "\n",
    "performance_df.loc[len(performance_df.index)] = ['Ada Boost', 5, training_score5, testing_score5, 'including neutrals', recall5, precision5, .6, 300]\n",
    "performance_df.loc[len(performance_df.index)] = ['Ada Boost', 6, training_score6, testing_score6, 'including neutrals', recall6, precision6, .8, 300]\n",
    "performance_df.loc[len(performance_df.index)] = ['Ada Boost', 7, training_score7, testing_score7, 'excluding neutrals', recall7, precision7, .6, 300]\n",
    "performance_df.loc[len(performance_df.index)] = ['Ada Boost', 8, training_score8, testing_score8, 'excluding neutrals', recall8, precision8, .8, 300]"
   ]
  },
  {
   "cell_type": "markdown",
   "id": "abeb5bd7",
   "metadata": {},
   "source": [
    "![title](Images/AdaBoostImage.png)"
   ]
  },
  {
   "cell_type": "markdown",
   "id": "a25a8104",
   "metadata": {
    "id": "a25a8104"
   },
   "source": [
    "# Naive Bayes"
   ]
  },
  {
   "cell_type": "code",
   "execution_count": 21,
   "id": "8dfd0224",
   "metadata": {
    "colab": {
     "base_uri": "https://localhost:8080/"
    },
    "id": "8dfd0224",
    "outputId": "41824676-3c97-4853-da47-3e68628c670f"
   },
   "outputs": [
    {
     "name": "stdout",
     "output_type": "stream",
     "text": [
      "Attempt 1: 60/40 split, including neutrals ----------------------------------------\n",
      "Training Data Score: 0.8054342552159146\n",
      "Testing Data Score: 0.6207586646047485 \n",
      "\n",
      "[[1226 1737  147]\n",
      " [ 309 3647  470]\n",
      " [  75 1431 1951]]\n",
      "              precision    recall  f1-score   support\n",
      "\n",
      "          -1       0.76      0.39      0.52      3110\n",
      "           0       0.54      0.82      0.65      4426\n",
      "           1       0.76      0.56      0.65      3457\n",
      "\n",
      "    accuracy                           0.62     10993\n",
      "   macro avg       0.69      0.59      0.61     10993\n",
      "weighted avg       0.67      0.62      0.61     10993\n",
      "\n",
      "Attempt 2: 80/20 split, including neutrals ----------------------------------------\n",
      "Training Data Score: 0.7927128820960698\n",
      "Testing Data Score: 0.6150627615062761 \n",
      "\n",
      "[[ 621  910   73]\n",
      " [ 131 1799  240]\n",
      " [  33  729  961]]\n",
      "              precision    recall  f1-score   support\n",
      "\n",
      "          -1       0.79      0.39      0.52      1604\n",
      "           0       0.52      0.83      0.64      2170\n",
      "           1       0.75      0.56      0.64      1723\n",
      "\n",
      "    accuracy                           0.62      5497\n",
      "   macro avg       0.69      0.59      0.60      5497\n",
      "weighted avg       0.67      0.62      0.61      5497\n",
      "\n",
      "Attempt 3: 60/40 split, excluding neutrals ----------------------------------------\n",
      "Training Data Score: 0.9460120199653662\n",
      "Testing Data Score: 0.8501374885426215 \n",
      "\n",
      "[[2496  611]\n",
      " [ 370 3069]]\n",
      "              precision    recall  f1-score   support\n",
      "\n",
      "          -1       0.87      0.80      0.84      3107\n",
      "           1       0.83      0.89      0.86      3439\n",
      "\n",
      "    accuracy                           0.85      6546\n",
      "   macro avg       0.85      0.85      0.85      6546\n",
      "weighted avg       0.85      0.85      0.85      6546\n",
      "\n",
      "Attempt 4: 80/20 split, excluding neutrals ----------------------------------------\n",
      "Training Data Score: 0.939572192513369\n",
      "Testing Data Score: 0.8539566147265506 \n",
      "\n",
      "[[1257  280]\n",
      " [ 198 1538]]\n",
      "              precision    recall  f1-score   support\n",
      "\n",
      "          -1       0.86      0.82      0.84      1537\n",
      "           1       0.85      0.89      0.87      1736\n",
      "\n",
      "    accuracy                           0.85      3273\n",
      "   macro avg       0.85      0.85      0.85      3273\n",
      "weighted avg       0.85      0.85      0.85      3273\n",
      "\n"
     ]
    }
   ],
   "source": [
    "from sklearn.naive_bayes import MultinomialNB\n",
    "\n",
    "mnb = MultinomialNB()\n",
    "\n",
    "\n",
    "training_score1, testing_score1, recall1, precision1 = create_model(tweets_df, 1, mnb, .6, \"60/40 split, including neutrals\")\n",
    "training_score2, testing_score2, recall2, precision2 = create_model(tweets_df, 2, mnb, .8, \"80/20 split, including neutrals\")\n",
    "training_score3, testing_score3, recall3, precision3 = create_model(tweets_no_neut, 3, mnb, .6, \"60/40 split, excluding neutrals\")\n",
    "training_score4, testing_score4, recall4, precision4 = create_model(tweets_no_neut, 4, mnb, .8, \"80/20 split, excluding neutrals\")\n",
    "\n",
    "performance_df.loc[len(performance_df.index)] = ['Multinomial Naive Bayes', 1, training_score1, testing_score1, 'including neutrals', recall1, precision1, .6, 0]\n",
    "performance_df.loc[len(performance_df.index)] = ['Multinomial Naive Bayes', 2, training_score2, testing_score2, 'including neutrals', recall2, precision2, .8, 0]\n",
    "performance_df.loc[len(performance_df.index)] = ['Multinomial Naive Bayes', 3, training_score3, testing_score3, 'excluding neutrals', recall3, precision3, .6, 0]\n",
    "performance_df.loc[len(performance_df.index)] = ['Multinomial Naive Bayes', 4, training_score4, testing_score4, 'excluding neutrals', recall4, precision4, .8, 0]"
   ]
  },
  {
   "cell_type": "markdown",
   "id": "1068f9aa",
   "metadata": {},
   "source": [
    "![title](Images/NBImage.png)"
   ]
  },
  {
   "cell_type": "code",
   "execution_count": 17,
   "id": "w0CASu0kjjw9",
   "metadata": {
    "id": "w0CASu0kjjw9"
   },
   "outputs": [],
   "source": [
    "performance_df.to_csv(\"Resources/performance.csv\")"
   ]
  },
  {
   "cell_type": "markdown",
   "id": "f844353c",
   "metadata": {},
   "source": [
    "![title](Images/Sentiment_Analysis_Summary.png)"
   ]
  },
  {
   "cell_type": "markdown",
   "id": "54lxdKyCkOTX",
   "metadata": {
    "id": "54lxdKyCkOTX"
   },
   "source": [
    "### MatPlotLib"
   ]
  },
  {
   "cell_type": "code",
   "execution_count": 24,
   "id": "UCtmN_uYkQN0",
   "metadata": {
    "id": "UCtmN_uYkQN0"
   },
   "outputs": [],
   "source": [
    "performance_neutral = performance_df[performance_df[\"Parameters\"] == \"including neutrals\"]\n",
    "performance_no_neutral = performance_df[performance_df[\"Parameters\"] == \"excluding neutrals\"]"
   ]
  },
  {
   "cell_type": "code",
   "execution_count": 25,
   "id": "1a_JhV52kSW1",
   "metadata": {
    "id": "1a_JhV52kSW1"
   },
   "outputs": [],
   "source": [
    "# with neutrals\n",
    "labels = performance_neutral[\"Model\"].tolist()\n",
    "training = performance_neutral[\"Training Score\"].tolist()\n",
    "testing = performance_neutral[\"Testing Score\"].tolist()"
   ]
  },
  {
   "cell_type": "code",
   "execution_count": 26,
   "id": "OH9IqtSGkTkt",
   "metadata": {
    "id": "OH9IqtSGkTkt"
   },
   "outputs": [],
   "source": [
    "training = [round(x, 2) for x in training]\n",
    "testing = [round(x, 2) for x in testing]"
   ]
  },
  {
   "cell_type": "code",
   "execution_count": 27,
   "id": "0DzfdE4tkU9t",
   "metadata": {
    "id": "0DzfdE4tkU9t"
   },
   "outputs": [],
   "source": [
    "# import matplotlib.pyplot as plt\n",
    "# import numpy as np\n",
    "# x = np.arange(len(labels))\n",
    "# width = 0.35\n",
    "\n",
    "# fig, ax = plt.subplots()\n",
    "# rects1 = ax.bar(x - width/2, training, width, label='Training')\n",
    "# rects2 = ax.bar(x + width/2, testing, width, label='Testing')\n",
    "\n",
    "# ax.set_ylabel('Score')\n",
    "# ax.set_xticks(x, labels)\n",
    "# ax.xticks(rotation=45)\n",
    "# ax.set_title('Scores of Models including Neutral Tweets')\n",
    "# ax.legend()\n",
    "\n",
    "# ax.bar_label(rects1, padding=3)\n",
    "# ax.bar_label(rects2, padding=3)\n",
    "\n",
    "# plt.show()"
   ]
  }
 ],
 "metadata": {
  "colab": {
   "provenance": []
  },
  "kernelspec": {
   "display_name": "Python 3 (ipykernel)",
   "language": "python",
   "name": "python3"
  },
  "language_info": {
   "codemirror_mode": {
    "name": "ipython",
    "version": 3
   },
   "file_extension": ".py",
   "mimetype": "text/x-python",
   "name": "python",
   "nbconvert_exporter": "python",
   "pygments_lexer": "ipython3",
   "version": "3.9.12"
  }
 },
 "nbformat": 4,
 "nbformat_minor": 5
}
